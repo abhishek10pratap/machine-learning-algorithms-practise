{
  "nbformat": 4,
  "nbformat_minor": 0,
  "metadata": {
    "colab": {
      "provenance": []
    },
    "kernelspec": {
      "name": "python3",
      "display_name": "Python 3"
    },
    "language_info": {
      "name": "python"
    }
  },
  "cells": [
    {
      "cell_type": "code",
      "source": [
        "import pandas as pd\n",
        "import numpy as np\n",
        "import matplotlib.pyplot as plt\n",
        "from sklearn.datasets import fetch_california_housing\n",
        "df=fetch_california_housing(return_X_y=True)\n",
        "import seaborn as sns"
      ],
      "metadata": {
        "id": "VS1QI2qkJkld"
      },
      "execution_count": 38,
      "outputs": []
    },
    {
      "cell_type": "code",
      "source": [
        "from sklearn.linear_model import LinearRegression\n",
        "from sklearn.tree import  DecisionTreeRegressor\n",
        "from sklearn.model_selection import cross_val_score\n",
        "from sklearn.svm import  SVR"
      ],
      "metadata": {
        "id": "xtiKX97lpa_a"
      },
      "execution_count": 63,
      "outputs": []
    },
    {
      "cell_type": "code",
      "source": [
        "clf1=LinearRegression()\n",
        "clf2=DecisionTreeRegressor()\n",
        "clf3=SVR()"
      ],
      "metadata": {
        "id": "sHgKJTSspa8_"
      },
      "execution_count": 64,
      "outputs": []
    },
    {
      "cell_type": "code",
      "source": [
        "estimators=[(\"lr\",clf1),(\"dt\",clf2),(\"svr\",clf3)]"
      ],
      "metadata": {
        "id": "ZYz1g0YZpa57"
      },
      "execution_count": 65,
      "outputs": []
    },
    {
      "cell_type": "code",
      "source": [
        "for  estimator in estimators:\n",
        " scores =cross_val_score(estimator[1],X,y,cv=10,scoring=\"r2\")\n",
        " print(estimator[0],np.round(np.mean(x),2))"
      ],
      "metadata": {
        "id": "EBJp6FRen8uS",
        "colab": {
          "base_uri": "https://localhost:8080/"
        },
        "outputId": "b155b804-08ba-49da-8705-62442e409d00"
      },
      "execution_count": 66,
      "outputs": [
        {
          "output_type": "stream",
          "name": "stdout",
          "text": [
            "lr 0.66\n",
            "dt 0.66\n",
            "svr 0.66\n"
          ]
        }
      ]
    },
    {
      "cell_type": "code",
      "source": [
        "from sklearn.ensemble import VotingRegressor"
      ],
      "metadata": {
        "id": "EkfyBBb0n8rb"
      },
      "execution_count": 67,
      "outputs": []
    },
    {
      "cell_type": "code",
      "source": [
        "\n",
        "vr=VotingRegressor(estimators=estimators)\n",
        "scores=cross_val_score(vr,X,y,cv=10,scoring=\"r2\")\n",
        "print( np.round(np.mean(scores),2))\n"
      ],
      "metadata": {
        "id": "aVpyaECQn8o2",
        "colab": {
          "base_uri": "https://localhost:8080/"
        },
        "outputId": "062c7c2e-f62a-4879-c352-ef33328c5805"
      },
      "execution_count": 71,
      "outputs": [
        {
          "output_type": "stream",
          "name": "stdout",
          "text": [
            "0.0\n"
          ]
        }
      ]
    },
    {
      "cell_type": "code",
      "source": [],
      "metadata": {
        "id": "x_I3LqTnn8jg"
      },
      "execution_count": null,
      "outputs": []
    },
    {
      "cell_type": "code",
      "source": [],
      "metadata": {
        "id": "kaaHuCTdn8gO"
      },
      "execution_count": null,
      "outputs": []
    }
  ]
}